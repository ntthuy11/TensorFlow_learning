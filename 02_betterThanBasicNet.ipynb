{
 "cells": [
  {
   "cell_type": "code",
   "execution_count": 4,
   "metadata": {
    "collapsed": false
   },
   "outputs": [
    {
     "name": "stdout",
     "output_type": "stream",
     "text": [
      "1\n",
      "2\n",
      "3\n",
      "4\n",
      "5\n",
      "6\n",
      "7\n",
      "8\n",
      "9\n",
      "10\n"
     ]
    }
   ],
   "source": [
    "import tensorflow as tf\n",
    "\n",
    "graph = tf.Graph()\n",
    "\n",
    "with graph.as_default():\n",
    "    \n",
    "    with tf.name_scope(\"variables\"):\n",
    "        global_step = tf.Variable(0, dtype=tf.int32, trainable=False, name=\"global_step\") # keep track of N run-times\n",
    "        total_output = tf.Variable(0.0, dtype=tf.float32, trainable=False, name=\"total_output\") # sum of outputs\n",
    "        \n",
    "    with tf.name_scope(\"transformation\"):\n",
    "        with tf.name_scope(\"input\"):\n",
    "            a = tf.placeholder(tf.float32, shape=[None], name=\"input_placeholder_a\") # placeholder for a Vector\n",
    "        with tf.name_scope(\"intermediate_layer\"):\n",
    "            b = tf.reduce_prod(a, name=\"product_b\") # calculate product of all elements in the Vector a\n",
    "            c = tf.reduce_sum(a, name=\"sum_c\") # calculate sum of all elements in the Vector a\n",
    "        with tf.name_scope(\"output\"):\n",
    "            output = tf.add(b, c, name=\"output\")\n",
    "    \n",
    "    with tf.name_scope(\"update\"):\n",
    "        update_total = total_output.assign_add(output) # increase the total_output by the latest output\n",
    "        increment_step = global_step.assign_add(1) # increase the global_step by 1\n",
    "        \n",
    "    with tf.name_scope(\"summaries\"):\n",
    "        avg = tf.div(update_total, tf.cast(increment_step, tf.float32), name=\"average\")\n",
    "        tf.summary.scalar(\"Output\", output)\n",
    "        tf.summary.scalar(\"SumOfOutputsOverTime\", update_total)\n",
    "        tf.summary.scalar(\"AverageOfOutputsOverTime\", avg)\n",
    "        \n",
    "    with tf.name_scope(\"global_ops\"):\n",
    "        init = tf.global_variables_initializer() # init all variables (in the above scope)\n",
    "        merged_summaries = tf.summary.merge_all() # merge all summaries (in the above scope) into 1 operation\n",
    "        \n",
    "sess = tf.Session(graph=graph)\n",
    "writer = tf.summary.FileWriter('./improved_graph', graph)\n",
    "\n",
    "sess.run(init) # execute the correponding 'init' function\n",
    "\n",
    "\n",
    "# ---\n",
    "def run_graph(input_tensor):\n",
    "    feed_dict = {a: input_tensor} # create a dictionary to map the input_tensor to the 'a'\n",
    "    _, step, summary = sess.run([output, increment_step, merged_summaries], feed_dict=feed_dict) # execute the functions\n",
    "                    # the return [_, step, summary] corresponds to the input [output, increment_step, merge_summaries]\n",
    "    writer.add_summary(summary, global_step=step)\n",
    "    \n",
    "    #print(step)\n",
    "    \n",
    "\n",
    "# ---\n",
    "run_graph([2,8])\n",
    "run_graph([3,1,3,3])\n",
    "run_graph([8])\n",
    "run_graph([1,2,3])\n",
    "run_graph([11,4])\n",
    "run_graph([4,1])\n",
    "run_graph([7,3,1])\n",
    "run_graph([6,3])\n",
    "run_graph([0,2])\n",
    "run_graph([4,5,6])\n",
    "\n",
    "# ---\n",
    "writer.flush() # write the summaries to disk\n",
    "writer.close()\n",
    "sess.close()"
   ]
  },
  {
   "cell_type": "code",
   "execution_count": null,
   "metadata": {
    "collapsed": true
   },
   "outputs": [],
   "source": []
  }
 ],
 "metadata": {
  "kernelspec": {
   "display_name": "Python 3",
   "language": "python",
   "name": "python3"
  },
  "language_info": {
   "codemirror_mode": {
    "name": "ipython",
    "version": 3
   },
   "file_extension": ".py",
   "mimetype": "text/x-python",
   "name": "python",
   "nbconvert_exporter": "python",
   "pygments_lexer": "ipython3",
   "version": "3.5.2"
  }
 },
 "nbformat": 4,
 "nbformat_minor": 2
}
