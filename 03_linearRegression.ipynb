{
 "cells": [
  {
   "cell_type": "code",
   "execution_count": 74,
   "metadata": {
    "collapsed": false
   },
   "outputs": [],
   "source": [
    "import os                             #### FOR MULTIPLE FEATURES X, SINGLE Y ####\n",
    "import sys\n",
    "import tensorflow as tf\n",
    "\n",
    "W = tf.Variable(tf.zeros([2,1]), name=\"weights\")\n",
    "b = tf.Variable(0., name=\"bias\")"
   ]
  },
  {
   "cell_type": "code",
   "execution_count": 108,
   "metadata": {
    "collapsed": false
   },
   "outputs": [],
   "source": [
    "# ------- define the training loop operations -------\n",
    "\n",
    "def inference(X): # compute inference model over data X and return the result\n",
    "    return tf.matmul(X, W) + b\n",
    "\n",
    "def loss(X, Y): # compute loss over training data X and expected outputs Y\n",
    "    Y_predicted = inference(X)\n",
    "    return tf.reduce_sum(tf.squared_difference(Y, Y_predicted))\n",
    "\n",
    "def inputs(): # read/generate input training data X and expected outputs Y    \n",
    "    # Data from http://people.sc.fsu.edu/~jburkardt/datasets/regression/x09.txt\n",
    "    weight_age = [[84, 46], [73, 20], [65, 52], [70, 30], [76, 57], [69, 25], [63, 28], [72, 36], [79, 57], \n",
    "                  [75, 44], [27, 24], [89, 31], [65, 52], [57, 23], [59, 60], [69, 48], [60, 34], [79, 51], \n",
    "                  [75, 50], [82, 34], [59, 46], [67, 23], [85, 37], [55, 40], [63, 30]]\n",
    "    blood_fat_content = [354, 190, 405, 263, 451, 302, 288, 385, 402, 365, 209, 290, 346, 254, 395, 434, 220, \n",
    "                         374, 308, 220, 311, 181, 274, 303, 244]\n",
    "    return tf.to_float(weight_age), tf.to_float(blood_fat_content) # X, Y\n",
    "    \n",
    "def train(total_loss): # train/adjust model parameters according to computed total loss\n",
    "    learning_rate = 0.0000001\n",
    "    return tf.train.GradientDescentOptimizer(learning_rate).minimize(total_loss)\n",
    "    \n",
    "def evaluate(sess, X, Y): # evaluate the resulting trained model\n",
    "    print(sess.run(inference([[80., 25.]]))) # 303\n",
    "    print(sess.run(inference([[65., 25.]]))) # 256\n",
    "\n",
    "# ---------------------------------------------------"
   ]
  },
  {
   "cell_type": "code",
   "execution_count": 123,
   "metadata": {
    "collapsed": false
   },
   "outputs": [
    {
     "name": "stdout",
     "output_type": "stream",
     "text": [
      "loss:  [7608772.5]\n",
      "loss:  [5341925.5]\n",
      "loss:  [5339993.0]\n",
      "loss:  [5338747.0]\n",
      "loss:  [5337538.5]\n",
      "loss:  [5336334.0]\n",
      "loss:  [5335129.5]\n",
      "loss:  [5333926.0]\n",
      "loss:  [5332724.0]\n",
      "loss:  [5331524.0]\n",
      "[[ 320.64968872]]\n",
      "[[ 267.78182983]]\n"
     ]
    }
   ],
   "source": [
    "#saver = tf.train.Saver() # by default the saver will keep only the most recent 5 files and delete the rest\n",
    "#currentDir = 'C:\\\\Users\\\\Thuy Nguyen\\\\Desktop\\\\Tensorflow learning\\\\my-model'\n",
    "\n",
    "with tf.Session() as sess:\n",
    "    tf.global_variables_initializer().run()\n",
    "    \n",
    "    X, Y = inputs()\n",
    "    #print(sess.run(X)) # USE sess TO PRINT VALUES TO SCREEN\n",
    "    \n",
    "    total_loss = loss(X, Y)\n",
    "    train_op = train(total_loss)    \n",
    "    \n",
    "    coord = tf.train.Coordinator()\n",
    "    threads = tf.train.start_queue_runners(sess=sess, coord=coord)\n",
    "    \n",
    "    initial_step = 0\n",
    "    \n",
    "    # verify if we don't have a checkpoint saved already\n",
    "    #check_point = tf.train.get_checkpoint_state(currentDir) \n",
    "    #if check_point and check_point.model_checkpoint_path:\n",
    "    #    saver.restore(sess, check_point.model_checkpoint_path)\n",
    "    #    initial_step = int(check_point.model_checkpoint_path.rsplit('-', 1)[1])\n",
    "    \n",
    "    # actual training loop\n",
    "    training_steps = 1000\n",
    "    for step in range(initial_step, training_steps):\n",
    "        sess.run([train_op])\n",
    "        if step % 100 == 0: # for debug purpose, see how the loss gets decremented thru training steps\n",
    "            print(\"loss: \", sess.run([total_loss]))\n",
    "            #saver.save(sess, currentDir, global_step=step) # creates a checkpoint file with the name template\n",
    "                                                           # my-model-{step} like my-model-1000, my-model-2000...\n",
    "    evaluate(sess, X, Y)\n",
    "    \n",
    "    #saver.save(sess, currentDir, global_step=training_steps)\n",
    "    \n",
    "    coord.request_stop()\n",
    "    coord.join(threads)\n",
    "    sess.close()"
   ]
  },
  {
   "cell_type": "code",
   "execution_count": null,
   "metadata": {
    "collapsed": true
   },
   "outputs": [],
   "source": []
  }
 ],
 "metadata": {
  "kernelspec": {
   "display_name": "Python 3",
   "language": "python",
   "name": "python3"
  },
  "language_info": {
   "codemirror_mode": {
    "name": "ipython",
    "version": 3
   },
   "file_extension": ".py",
   "mimetype": "text/x-python",
   "name": "python",
   "nbconvert_exporter": "python",
   "pygments_lexer": "ipython3",
   "version": "3.5.2"
  }
 },
 "nbformat": 4,
 "nbformat_minor": 2
}
