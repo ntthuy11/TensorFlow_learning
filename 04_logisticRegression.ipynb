{
 "cells": [
  {
   "cell_type": "code",
   "execution_count": 77,
   "metadata": {
    "collapsed": true
   },
   "outputs": [],
   "source": [
    "import os                             #### FOR MULTIPLE FEATURES X, SINGLE Y ####\n",
    "import tensorflow as tf\n",
    "\n",
    "W = tf.Variable(tf.zeros([5,1], name=\"weights\"))\n",
    "b = tf.Variable(0., name=\"bias\")\n",
    "\n",
    "def read_csv(batch_size, file_name, record_defaults):\n",
    "    filename_queue = tf.train.string_input_producer([os.path.join(os.getcwd(), file_name)])\n",
    "    #filename_queue=tf.train.string_input_producer(['C:\\\\Users\\\\Thuy Nguyen\\\\Desktop\\\\Tensorflow learning\\\\train.csv'])\n",
    "    \n",
    "    reader = tf.TextLineReader(skip_header_lines=1) # define a (Excel) file reader that skips the first row (header)\n",
    "    key, value = reader.read(filename_queue) # load the rest of the file to (key, value)\n",
    "    \n",
    "    # convert a Tensor from type string (the text line) in a tuple of tensor columns with the specified defaults,\n",
    "    # which also sets the data type for each column\n",
    "    decoded = tf.decode_csv(value, record_defaults=record_defaults) \n",
    "    \n",
    "    # load 'batch_size' rows in a single tensor\n",
    "    return tf.train.shuffle_batch(decoded, batch_size=batch_size, capacity=batch_size*50, min_after_dequeue=batch_size)"
   ]
  },
  {
   "cell_type": "code",
   "execution_count": 78,
   "metadata": {
    "collapsed": false
   },
   "outputs": [],
   "source": [
    "# ------- define the training loop operations -------\n",
    "\n",
    "def combine_inputs(X):\n",
    "    #print(X) # Tensor(\"transpose_5:0\", shape=(100, 5), dtype=float32)\n",
    "    return tf.matmul(X, W) + b\n",
    "    \n",
    "def inference(X): # used in the evaluate() only\n",
    "    return tf.sigmoid(combine_inputs(X)) # y = 1 / (1 + exp(-x)): is just to calculate a probability\n",
    "\n",
    "def loss(X, Y):\n",
    "    return tf.reduce_mean(tf.nn.sigmoid_cross_entropy_with_logits(combine_inputs(X), Y))\n",
    "        # With cross entropy, as the predicted probability comes closer to 0 for the “yes” example, the penalty \n",
    "        # increases closer to infinity. This makes it impossible for the model to make that misprediction after \n",
    "        # training --> cross entropy better suits as a loss function.\n",
    "        # Logits means the func. operates on the unscaled output of earlier layers. Sum of the inputs may not \n",
    "        # equal 1, that the values are not probabilities (might have an input of 5).\n",
    "    \n",
    "    # TESTING (not working)\n",
    "    #Y_pred = combine_inputs(X)\n",
    "    #print(Y)              # Tensor(\"Reshape_4:0\", shape=(100, 1), dtype=float32)\n",
    "    #print(Y_pred)         # Tensor(\"add_6:0\",     shape=(100, 1), dtype=float32) \n",
    "    #print(tf.log(Y_pred)) # Tensor(\"Log_3:0\",     shape=(100, 1), dtype=float32)\n",
    "    #Y_mul_logYpred = tf.multiply(Y, tf.log(Y_pred))\n",
    "    #print(Y_mul_logYpred) # Tensor(\"Mul_2:0\",     shape=(100, 1), dtype=float32)\n",
    "    #Y_mul_logYpred_1minus = tf.multiply(1-Y, 1-tf.log(Y_pred))\n",
    "    #print(Y_mul_logYpred_1minus) # Tensor(\"Mul_5:0\", shape=(100, 1), dtype=float32)\n",
    "    #result = -tf.reduce_mean(Y_mul_logYpred + Y_mul_logYpred_1minus)\n",
    "\n",
    "def inputs():\n",
    "    passenger_id, survived, pclass, name, sex, age, sibsp, parch, ticket, fare, cabin, embarked = \\\n",
    "        read_csv(100, 'train.csv', [[0.0], [0.0], [0], [\"\"], [\"\"], [0.0], [0.0], [0.0], [\"\"], [0.0], [\"\"], [\"\"]])\n",
    "    \n",
    "    # convert categorical data\n",
    "    is_first_class = tf.to_float(tf.equal(pclass, [1]))\n",
    "    is_second_class = tf.to_float(tf.equal(pclass, [2]))\n",
    "    is_third_class = tf.to_float(tf.equal(pclass, [3]))\n",
    "    gender = tf.to_float(tf.equal(sex, [\"female\"]))\n",
    "    \n",
    "    # pack all features in a single matrix, then transpose to have a matrix of 1 sample per row & 1 feature per column\n",
    "    features = tf.transpose(tf.pack([is_first_class, is_second_class, is_third_class, gender, age]))\n",
    "    survived = tf.reshape(survived, [100, 1])\n",
    "    \n",
    "    return features, survived\n",
    "\n",
    "def train(total_loss):\n",
    "    learning_rate = 0.01\n",
    "    return tf.train.GradientDescentOptimizer(learning_rate).minimize(total_loss)\n",
    "\n",
    "def evaluate(sess, X, Y):\n",
    "    Y_predicted = tf.cast(inference(X) > 0.5, tf.float32)\n",
    "    print(sess.run(tf.reduce_mean(tf.cast(tf.equal(Y_predicted, Y), tf.float32))))\n",
    "\n",
    "# ---------------------------------------------------"
   ]
  },
  {
   "cell_type": "code",
   "execution_count": 79,
   "metadata": {
    "collapsed": false
   },
   "outputs": [
    {
     "name": "stdout",
     "output_type": "stream",
     "text": [
      "loss:  [0.8389585]\n",
      "loss:  [0.66806692]\n",
      "loss:  [0.63865888]\n",
      "loss:  [0.60634279]\n",
      "loss:  [0.61393356]\n",
      "loss:  [0.65270913]\n",
      "loss:  [0.62827408]\n",
      "loss:  [0.60302347]\n",
      "loss:  [0.63809496]\n",
      "loss:  [0.5576216]\n",
      "0.71\n"
     ]
    }
   ],
   "source": [
    "with tf.Session() as sess:\n",
    "    tf.global_variables_initializer().run()\n",
    "    \n",
    "    # X is features of [is_first_class, is_second_class, is_third_class, gender, age]\n",
    "    # Y is training_output of [survived], it has 0 and 1 values only\n",
    "    X, Y = inputs()\n",
    "    #print(sess.run(X)) # USE sess TO PRINT VALUES TO SCREEN\n",
    "    \n",
    "    total_loss = loss(X, Y)\n",
    "    train_op = train(total_loss)    \n",
    "    \n",
    "    coord = tf.train.Coordinator()\n",
    "    threads = tf.train.start_queue_runners(sess=sess, coord=coord)\n",
    "    \n",
    "    initial_step = 0\n",
    " \n",
    "    # actual training loop\n",
    "    training_steps = 1000\n",
    "    for step in range(initial_step, training_steps):\n",
    "        sess.run([train_op])\n",
    "        if step % 100 == 0: # for debug purpose, see how the loss gets decremented thru training steps\n",
    "            print(\"loss: \", sess.run([total_loss]))\n",
    "    evaluate(sess, X, Y)\n",
    "    \n",
    "    coord.request_stop()\n",
    "    coord.join(threads)\n",
    "    sess.close()"
   ]
  },
  {
   "cell_type": "code",
   "execution_count": null,
   "metadata": {
    "collapsed": true
   },
   "outputs": [],
   "source": []
  }
 ],
 "metadata": {
  "kernelspec": {
   "display_name": "Python 3",
   "language": "python",
   "name": "python3"
  },
  "language_info": {
   "codemirror_mode": {
    "name": "ipython",
    "version": 3
   },
   "file_extension": ".py",
   "mimetype": "text/x-python",
   "name": "python",
   "nbconvert_exporter": "python",
   "pygments_lexer": "ipython3",
   "version": "3.5.2"
  }
 },
 "nbformat": 4,
 "nbformat_minor": 2
}
